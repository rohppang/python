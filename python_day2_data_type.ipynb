{
 "cells": [
  {
   "cell_type": "markdown",
   "metadata": {},
   "source": [
    "마크다운 셀 M, 코드 셀 Y"
   ]
  },
  {
   "cell_type": "code",
   "execution_count": 7,
   "metadata": {},
   "outputs": [
    {
     "data": {
      "text/plain": [
       "(1, 2, 3, 'a', 'bb', 'a')"
      ]
     },
     "execution_count": 7,
     "metadata": {},
     "output_type": "execute_result"
    }
   ],
   "source": [
    "# 튜플 (요소, 요소, .....), 특징 : 수정 불가능\n",
    "# 용도, 함수의 리턴이 복수개일때 튜플로 반환됩니다\n",
    "t = (1,2,3, 'a', 'bb', 'a')\n",
    "t"
   ]
  },
  {
   "cell_type": "code",
   "execution_count": 8,
   "metadata": {},
   "outputs": [
    {
     "data": {
      "text/plain": [
       "2"
      ]
     },
     "execution_count": 8,
     "metadata": {},
     "output_type": "execute_result"
    }
   ],
   "source": [
    "t.count('a') # 'a' 가 몇개 있는가"
   ]
  },
  {
   "cell_type": "code",
   "execution_count": 9,
   "metadata": {},
   "outputs": [
    {
     "data": {
      "text/plain": [
       "3"
      ]
     },
     "execution_count": 9,
     "metadata": {},
     "output_type": "execute_result"
    }
   ],
   "source": [
    "t.index('a') # 'a' 가 어디에 있는가"
   ]
  },
  {
   "cell_type": "code",
   "execution_count": 10,
   "metadata": {},
   "outputs": [
    {
     "data": {
      "text/plain": [
       "{1, 2, 3, 'a', 'bb'}"
      ]
     },
     "execution_count": 10,
     "metadata": {},
     "output_type": "execute_result"
    }
   ],
   "source": [
    "s = set(t) # t를 set으로 변환해라 \n",
    "s"
   ]
  },
  {
   "cell_type": "code",
   "execution_count": 11,
   "metadata": {},
   "outputs": [
    {
     "data": {
      "text/plain": [
       "[1, 2, 3, 'a', 'bb']"
      ]
     },
     "execution_count": 11,
     "metadata": {},
     "output_type": "execute_result"
    }
   ],
   "source": [
    "l = list(s) # s를 list로 변환해라\n",
    "l"
   ]
  },
  {
   "cell_type": "code",
   "execution_count": 13,
   "metadata": {},
   "outputs": [
    {
     "data": {
      "text/plain": [
       "([1, 2, 3, 'a', 'bb', 'a'], {1, 2, 3, 'a', 'bb'}, (1, 2, 3, 'a', 'bb', 'a'))"
      ]
     },
     "execution_count": 13,
     "metadata": {},
     "output_type": "execute_result"
    }
   ],
   "source": [
    "list(t), set(t), tuple(t)"
   ]
  },
  {
   "cell_type": "code",
   "execution_count": 38,
   "metadata": {},
   "outputs": [],
   "source": [
    "#함수 만들기 소문자_소문자...\n",
    "def add_3(a,b,c=1):  # 기본값 인자 뒷쪽에 놓을 수 있다.\n",
    "    '''\n",
    "    문서화 : 이 함수는 값 3개를 더해서 리턴합니다.\n",
    "    작성자 : Park 2019.06.12\n",
    "    '''\n",
    "    return a+b+c"
   ]
  },
  {
   "cell_type": "code",
   "execution_count": 39,
   "metadata": {},
   "outputs": [
    {
     "data": {
      "text/plain": [
       "(int, float, str)"
      ]
     },
     "execution_count": 39,
     "metadata": {},
     "output_type": "execute_result"
    }
   ],
   "source": [
    "type(3), type(3.3), type ('a')"
   ]
  },
  {
   "cell_type": "code",
   "execution_count": 37,
   "metadata": {},
   "outputs": [
    {
     "data": {
      "text/plain": [
       "array([6, 7, 8, 9])"
      ]
     },
     "execution_count": 37,
     "metadata": {},
     "output_type": "execute_result"
    }
   ],
   "source": [
    "import numpy as np\n",
    "add_3(1,2,np.array([3,4,5,6]))"
   ]
  },
  {
   "cell_type": "code",
   "execution_count": 25,
   "metadata": {},
   "outputs": [
    {
     "data": {
      "text/plain": [
       "(6, 15)"
      ]
     },
     "execution_count": 25,
     "metadata": {},
     "output_type": "execute_result"
    }
   ],
   "source": [
    "add_3(1,2,3), add_3(4,5,6)"
   ]
  },
  {
   "cell_type": "code",
   "execution_count": 26,
   "metadata": {},
   "outputs": [
    {
     "data": {
      "text/plain": [
       "'abbbccc'"
      ]
     },
     "execution_count": 26,
     "metadata": {},
     "output_type": "execute_result"
    }
   ],
   "source": [
    "add_3('a','bbb','ccc')"
   ]
  },
  {
   "cell_type": "code",
   "execution_count": 19,
   "metadata": {},
   "outputs": [],
   "source": [
    "# return 이 없는 함수\n",
    "import math\n",
    "def check_nan(x):\n",
    "    if math.isnan(x): # nan : not a number 숫자가 아니다. 0으로 나누거나 할때 발생\n",
    "        print(x, '는 nan 입니다')\n",
    "    else:\n",
    "        print(x, '는 숫자입니다')"
   ]
  },
  {
   "cell_type": "code",
   "execution_count": 20,
   "metadata": {},
   "outputs": [
    {
     "name": "stdout",
     "output_type": "stream",
     "text": [
      "100 는 숫자입니다\n"
     ]
    }
   ],
   "source": [
    "check_nan(100)"
   ]
  },
  {
   "cell_type": "code",
   "execution_count": 22,
   "metadata": {},
   "outputs": [
    {
     "name": "stdout",
     "output_type": "stream",
     "text": [
      "100 는 숫자입니다\n",
      "None\n"
     ]
    }
   ],
   "source": [
    "out = check_nan(100)\n",
    "print(out) #리턴이 없는 함수에서 리턴을 강제로 받으면 None 이 리턴됩니다."
   ]
  },
  {
   "cell_type": "markdown",
   "metadata": {},
   "source": [
    "클래스를 정의해두고, 사용할때는 인스턴스를 생성해서 클래스의 함수들을 사용합니다."
   ]
  },
  {
   "cell_type": "code",
   "execution_count": 78,
   "metadata": {},
   "outputs": [
    {
     "data": {
      "text/plain": [
       "(True, False)"
      ]
     },
     "execution_count": 78,
     "metadata": {},
     "output_type": "execute_result"
    }
   ],
   "source": [
    "# 중복 체크/정답 맞춘것을 구현할때 사용하세요\n",
    "a=[1,2,3,4,5]\n",
    "1 in a, 10 in a"
   ]
  },
  {
   "cell_type": "code",
   "execution_count": 208,
   "metadata": {},
   "outputs": [],
   "source": [
    "import random\n",
    "class Lotto:\n",
    "    '''\n",
    "    45개 전후의 숫자 중 6개를 맞추는 게임 : 1등 1~45 숫자\n",
    "    '''\n",
    "    def __init__(self): # 함수의 첫번째 인자로 self 로 넣어줍니다. JAVA의 this에 해당\n",
    "        print(\"로또 정답 생성자\")\n",
    "        self.target = [] #정답 list # self를 붙이면 클래스 변수가 됩니다.\n",
    "        for i in range(6):\n",
    "            v = random.randint(1,45)      #중복 번호가 나오면 다시 뽑기를 구현해 주세요\n",
    "            while( v in self.target):     #기존에 있는 번호를 뽑은거면 \n",
    "                v = random.randint(1,45)  #다시뽑자            \n",
    "            self.target.append(v)\n",
    "        print (self.target)\n",
    "        \n",
    "    def select(self, nums):\n",
    "        \n",
    "        print('정답',self.target, '예측', nums)\n",
    "        k = 0\n",
    "        for i in range(6):\n",
    "            if nums[i] in self.target:    #내가 뽑은 번호가 정답이면\n",
    "                k += 1                    #파이썬은 ++, -- 증감연산자가 없습니다.\n",
    "        if k==6:\n",
    "            print('1등 당첨되셨습니다')\n",
    "        elif k >= 1:\n",
    "            print('축하합니다.', k, '개 맞췄습니다')\n",
    "        else:\n",
    "            print('꽝입니다. 하나도 못 맞췄습니다')\n",
    "        #6개의 당첨번호"
   ]
  },
  {
   "cell_type": "code",
   "execution_count": 209,
   "metadata": {},
   "outputs": [
    {
     "name": "stdout",
     "output_type": "stream",
     "text": [
      "로또 정답 생성자\n",
      "[17, 12, 41, 10, 33, 14]\n",
      "로또 정답 생성자\n",
      "[45, 27, 18, 41, 36, 2]\n"
     ]
    },
    {
     "data": {
      "text/plain": [
       "(<__main__.Lotto at 0x2891ea5ec88>, <__main__.Lotto at 0x2891ea5eb38>)"
      ]
     },
     "execution_count": 209,
     "metadata": {},
     "output_type": "execute_result"
    }
   ],
   "source": [
    "#객체(인스터스) 생성 방법 : 클래스이름()\n",
    "lotto1 = Lotto()\n",
    "lotto2 = Lotto()\n",
    "lotto1, lotto2"
   ]
  },
  {
   "cell_type": "code",
   "execution_count": 210,
   "metadata": {},
   "outputs": [
    {
     "name": "stdout",
     "output_type": "stream",
     "text": [
      "정답 [17, 12, 41, 10, 33, 14] 예측 [23, 22, 5, 25, 10, 28]\n",
      "축하합니다. 1 개 맞췄습니다\n"
     ]
    }
   ],
   "source": [
    "#게임참여 내사 숫자 6개를 석택하면 축하합니다. x 개 맞춰다\n",
    "lotto1.select([23,22,5,25,10,28])"
   ]
  },
  {
   "cell_type": "code",
   "execution_count": 211,
   "metadata": {},
   "outputs": [
    {
     "data": {
      "text/plain": [
       "(6, [1, 3, 5, 7, 9, 10])"
      ]
     },
     "execution_count": 211,
     "metadata": {},
     "output_type": "execute_result"
    }
   ],
   "source": [
    "my_nums = [[1,3,5,7,9,10], [10,24,23,22,2,1], [6,7,10,4,33,22], [40,41,42,43,44,45], [11,31,32,33,34,35], [11,17,34,18,24,36]]\n",
    "len(my_nums),my_nums [0] # 이만큼 반복해서 lotte1.select 함수를 호출하면 되겠습니다."
   ]
  },
  {
   "cell_type": "code",
   "execution_count": 212,
   "metadata": {},
   "outputs": [
    {
     "name": "stdout",
     "output_type": "stream",
     "text": [
      "정답 [17, 12, 41, 10, 33, 14] 예측 [1, 3, 5, 7, 9, 10]\n",
      "축하합니다. 1 개 맞췄습니다\n",
      "정답 [17, 12, 41, 10, 33, 14] 예측 [10, 24, 23, 22, 2, 1]\n",
      "축하합니다. 1 개 맞췄습니다\n",
      "정답 [17, 12, 41, 10, 33, 14] 예측 [6, 7, 10, 4, 33, 22]\n",
      "축하합니다. 2 개 맞췄습니다\n",
      "정답 [17, 12, 41, 10, 33, 14] 예측 [40, 41, 42, 43, 44, 45]\n",
      "축하합니다. 1 개 맞췄습니다\n",
      "정답 [17, 12, 41, 10, 33, 14] 예측 [11, 31, 32, 33, 34, 35]\n",
      "축하합니다. 1 개 맞췄습니다\n",
      "정답 [17, 12, 41, 10, 33, 14] 예측 [11, 17, 34, 18, 24, 36]\n",
      "축하합니다. 1 개 맞췄습니다\n"
     ]
    }
   ],
   "source": [
    "for i in range (len(my_nums)):\n",
    "    lotto1.select(my_nums[i])"
   ]
  },
  {
   "cell_type": "code",
   "execution_count": null,
   "metadata": {},
   "outputs": [],
   "source": []
  }
 ],
 "metadata": {
  "kernelspec": {
   "display_name": "Python 3",
   "language": "python",
   "name": "python3"
  },
  "language_info": {
   "codemirror_mode": {
    "name": "ipython",
    "version": 3
   },
   "file_extension": ".py",
   "mimetype": "text/x-python",
   "name": "python",
   "nbconvert_exporter": "python",
   "pygments_lexer": "ipython3",
   "version": "3.7.3"
  }
 },
 "nbformat": 4,
 "nbformat_minor": 2
}
