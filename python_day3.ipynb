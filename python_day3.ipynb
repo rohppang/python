{
 "cells": [
  {
   "cell_type": "markdown",
   "metadata": {},
   "source": [
    "- 단축키 ESC / Entre : 명령 모드/수정 모드\n",
    "- RUN : shift, ctlr, alt + Enter 실행\n",
    "- Esc 커맨드 모드, Enter 편집 모드\n",
    "- X 셀 지우기\n",
    "- 코드/마크업 : Y/M\n",
    "\n",
    "\n",
    "파이썬 특징\n",
    "- 빌드 없이 바로 실행하는 인터프리터, 스크립트"
   ]
  },
  {
   "cell_type": "code",
   "execution_count": 1,
   "metadata": {},
   "outputs": [
    {
     "data": {
      "text/plain": [
       "(4, 3, 1, 1.5, 1, 27)"
      ]
     },
     "execution_count": 1,
     "metadata": {},
     "output_type": "execute_result"
    }
   ],
   "source": [
    "# // 몫만 정수로, ** 승수\n",
    "1+3, 1*3, 2-1, 3/2, 3//3, 3**3"
   ]
  },
  {
   "cell_type": "code",
   "execution_count": 2,
   "metadata": {},
   "outputs": [
    {
     "data": {
      "text/plain": [
       "False"
      ]
     },
     "execution_count": 2,
     "metadata": {},
     "output_type": "execute_result"
    }
   ],
   "source": [
    "# 논리연산자\n",
    "# 여러줄 주석 '''''', \"\"\"\"\"\"\n",
    "'''\n",
    "&& and\n",
    "|| or\n",
    "! not\n",
    "'''\n",
    "True or False\n",
    "not True"
   ]
  },
  {
   "cell_type": "code",
   "execution_count": 5,
   "metadata": {},
   "outputs": [
    {
     "name": "stdout",
     "output_type": "stream",
     "text": [
      "5>3\n",
      "5>3\n"
     ]
    }
   ],
   "source": [
    "#조건문 , 보통 소괄호 없이 사용합니다.\n",
    "if 5>3:\n",
    "    print ('5>3')\n",
    "    \n",
    "if (5 > 3):\n",
    "    print ('5>3')"
   ]
  },
  {
   "cell_type": "code",
   "execution_count": 6,
   "metadata": {},
   "outputs": [
    {
     "name": "stdout",
     "output_type": "stream",
     "text": [
      "0\n",
      "1\n",
      "2\n"
     ]
    }
   ],
   "source": [
    "#반복문 기존 : 3항 연산자 반복문이 없다!!\n",
    "#for (int i=0: 1<3 : 1++){}\n",
    "for i in range(3): # 향상된 for문이라고 불리던 반복문\n",
    "    print(i)"
   ]
  },
  {
   "cell_type": "code",
   "execution_count": 8,
   "metadata": {},
   "outputs": [
    {
     "name": "stdout",
     "output_type": "stream",
     "text": [
      "0.25636695810961974\n",
      "0.46127374725306014\n",
      "0.18063581346846203\n",
      "0.5456467038640306\n",
      "0.42072956274201134\n",
      "0.4621999773260188\n",
      "0.3287692149062158\n",
      "0.03400250203741506\n"
     ]
    }
   ],
   "source": [
    "# for 지정된 횟수만큼 반복 while 조건을 만족할때까지 반복\n",
    "import random\n",
    "# 0~1 랜덤값을 생성하는데 0.1 보다 작은 값을 얻겠다.\n",
    "\n",
    "while (True):\n",
    "    v = random.random()\n",
    "    print(v)\n",
    "    if v < 0.1:\n",
    "        break"
   ]
  },
  {
   "cell_type": "code",
   "execution_count": 10,
   "metadata": {},
   "outputs": [],
   "source": [
    "#함수\n",
    "'''\n",
    "기존\n",
    "inr add(int a, int b){\n",
    "    return a+b;\n",
    "}\n",
    "'''\n",
    "# 셀 하나에 함수를 정의하는 것이 깨끗합니다.\n",
    "def add(a, b):\n",
    "    return a+b"
   ]
  },
  {
   "cell_type": "code",
   "execution_count": 12,
   "metadata": {},
   "outputs": [
    {
     "data": {
      "text/plain": [
       "(4, 4.8, 'abc123')"
      ]
     },
     "execution_count": 12,
     "metadata": {},
     "output_type": "execute_result"
    }
   ],
   "source": [
    "add(1, 3), add(1.5, 3.3), add('abc','123')"
   ]
  },
  {
   "cell_type": "code",
   "execution_count": 27,
   "metadata": {},
   "outputs": [],
   "source": [
    "# 클래스, 셀 하나에 정의하세요\n",
    "class Lotto:\n",
    "    def __init__(self): #생성자\n",
    "        nums=[] # 지역변수 (함수 실행 완료되면 사라집니다.)\n",
    "        self.nums =[] # 클래스변수 (클래스가 제거되기 전까지 남습니다.)\n",
    "        for i in range(k): \n",
    "            nums.append(random.randint(1,45))\n",
    "        print(nums)"
   ]
  },
  {
   "cell_type": "code",
   "execution_count": 28,
   "metadata": {},
   "outputs": [
    {
     "ename": "TypeError",
     "evalue": "__init__() takes 1 positional argument but 2 were given",
     "output_type": "error",
     "traceback": [
      "\u001b[1;31m---------------------------------------------------------------------------\u001b[0m",
      "\u001b[1;31mTypeError\u001b[0m                                 Traceback (most recent call last)",
      "\u001b[1;32m<ipython-input-28-8f2088a5fde0>\u001b[0m in \u001b[0;36m<module>\u001b[1;34m\u001b[0m\n\u001b[0;32m      1\u001b[0m \u001b[1;31m# 객체 생성\u001b[0m\u001b[1;33m\u001b[0m\u001b[1;33m\u001b[0m\u001b[1;33m\u001b[0m\u001b[0m\n\u001b[1;32m----> 2\u001b[1;33m \u001b[0mlotto1\u001b[0m \u001b[1;33m=\u001b[0m \u001b[0mLotto\u001b[0m\u001b[1;33m(\u001b[0m\u001b[1;36m3\u001b[0m\u001b[1;33m)\u001b[0m\u001b[1;33m\u001b[0m\u001b[1;33m\u001b[0m\u001b[0m\n\u001b[0m\u001b[0;32m      3\u001b[0m \u001b[0mlotto2\u001b[0m \u001b[1;33m=\u001b[0m \u001b[0mLotto\u001b[0m\u001b[1;33m(\u001b[0m\u001b[1;36m5\u001b[0m\u001b[1;33m)\u001b[0m\u001b[1;33m\u001b[0m\u001b[1;33m\u001b[0m\u001b[0m\n",
      "\u001b[1;31mTypeError\u001b[0m: __init__() takes 1 positional argument but 2 were given"
     ]
    }
   ],
   "source": [
    "# 객체 생성\n",
    "lotto1 = Lotto(3)\n",
    "lotto2 = Lotto(5)"
   ]
  },
  {
   "cell_type": "code",
   "execution_count": 30,
   "metadata": {},
   "outputs": [
    {
     "ename": "NameError",
     "evalue": "name 'lotto1' is not defined",
     "output_type": "error",
     "traceback": [
      "\u001b[1;31m---------------------------------------------------------------------------\u001b[0m",
      "\u001b[1;31mNameError\u001b[0m                                 Traceback (most recent call last)",
      "\u001b[1;32m<ipython-input-30-74ce937ffe8f>\u001b[0m in \u001b[0;36m<module>\u001b[1;34m\u001b[0m\n\u001b[1;32m----> 1\u001b[1;33m \u001b[0mlotto1\u001b[0m\u001b[1;33m.\u001b[0m\u001b[0mnum\u001b[0m \u001b[1;31m#클래스 변수를 .으로 접근해서 사용할 수 있습니다.\u001b[0m\u001b[1;33m\u001b[0m\u001b[1;33m\u001b[0m\u001b[0m\n\u001b[0m",
      "\u001b[1;31mNameError\u001b[0m: name 'lotto1' is not defined"
     ]
    }
   ],
   "source": [
    "lotto1.num #클래스 변수를 .으로 접근해서 사용할 수 있습니다."
   ]
  },
  {
   "cell_type": "markdown",
   "metadata": {},
   "source": [
    "데이터 타입\n",
    "- 딕셔너리 { 키:값, 키:값 ....}      !엑셀의 컬럼 이름:키, 컬럼의 값들:값\n",
    "- 리스트[값, 값, 값,...] 수정가능    !언제든지 편리하게 테이터를 저장\n",
    "- 튜플 (값, 값, 값,...) 수정불가능   !함수에서 값들을 여러게 리턴할때\n"
   ]
  },
  {
   "cell_type": "code",
   "execution_count": 38,
   "metadata": {},
   "outputs": [
    {
     "data": {
      "text/plain": [
       "({'age': 30, 'city': 'seoul'},\n",
       " [10, 'a', 'city', [1, 2, 3]],\n",
       " (10, 'a', 'city', [1, 2, 3]))"
      ]
     },
     "execution_count": 38,
     "metadata": {},
     "output_type": "execute_result"
    }
   ],
   "source": [
    "d = {'age':30, 'city':'seoul'}\n",
    "l = [10, 'a', 'city', [1,2,3]]\n",
    "t = (10, 'a', 'city', [1,2,3])\n",
    "d, l, t"
   ]
  },
  {
   "cell_type": "code",
   "execution_count": 40,
   "metadata": {},
   "outputs": [
    {
     "data": {
      "text/plain": [
       "(10, [1, 2, 3], ['a', 'city'])"
      ]
     },
     "execution_count": 40,
     "metadata": {},
     "output_type": "execute_result"
    }
   ],
   "source": [
    "# 인덱스, 인덱싱\n",
    "# 0을 인덱스라고 하고 반드시 정수여야 합니다.\n",
    "# 인덱스로 값을 꺼내는 것을 인덱싱한다고 합니다.\n",
    "# -1 뒤에서 첫번째 취이\n",
    "# [시작위치 : 끝 위치(전까지)] , [생략: 생략]\n",
    "ㅣ[0], ㅣ[-1], ㅣ[1:3]"
   ]
  },
  {
   "cell_type": "code",
   "execution_count": 41,
   "metadata": {},
   "outputs": [
    {
     "data": {
      "text/plain": [
       "(1, 2, 3, 7, 4, 5)"
      ]
     },
     "execution_count": 41,
     "metadata": {},
     "output_type": "execute_result"
    }
   ],
   "source": [
    "# 요소끼리 터하고 싶을때\n",
    "(1,2,3)+(7,4,5)"
   ]
  },
  {
   "cell_type": "markdown",
   "metadata": {},
   "source": [
    "    List ,Dict, Set 연상용으로 사용이 불가능, 메모리 사용량이 크고 느립니다."
   ]
  },
  {
   "cell_type": "code",
   "execution_count": 46,
   "metadata": {},
   "outputs": [],
   "source": [
    "import numpy as np"
   ]
  },
  {
   "cell_type": "code",
   "execution_count": 47,
   "metadata": {},
   "outputs": [
    {
     "data": {
      "text/plain": [
       "(array([1, 2, 3, 4, 5, 6, 7, 8, 9]), array([1, 3, 5, 7, 9]))"
      ]
     },
     "execution_count": 47,
     "metadata": {},
     "output_type": "execute_result"
    }
   ],
   "source": [
    "# 배열 만글기\n",
    "# 함수 사용시 shift+Tab 로 설명을 봅니다.\n",
    "numpy.arange(1, 10), numpy.arange(1, 10, 2)"
   ]
  },
  {
   "cell_type": "code",
   "execution_count": 48,
   "metadata": {},
   "outputs": [
    {
     "data": {
      "text/plain": [
       "array([5, 7, 9])"
      ]
     },
     "execution_count": 48,
     "metadata": {},
     "output_type": "execute_result"
    }
   ],
   "source": [
    "# 테이터를 numpy 배열로 변환하면 연산이 됩니다\n",
    "np.array([1,2,3]) + np.array([4,5,6])"
   ]
  },
  {
   "cell_type": "markdown",
   "metadata": {},
   "source": [
    "야후 파이낸스의 SP500 주식 데이터를 읽습니다\n",
    "\n",
    "csv 혹은 pandas 로 읽을 수 있습니다"
   ]
  },
  {
   "cell_type": "code",
   "execution_count": 50,
   "metadata": {},
   "outputs": [],
   "source": [
    "import pandas"
   ]
  },
  {
   "cell_type": "code",
   "execution_count": 53,
   "metadata": {},
   "outputs": [
    {
     "data": {
      "text/plain": [
       "(20, 7)"
      ]
     },
     "execution_count": 53,
     "metadata": {},
     "output_type": "execute_result"
    }
   ],
   "source": [
    "stock = pandas.read_csv('^GSPC.csv')\n",
    "stock.shape"
   ]
  },
  {
   "cell_type": "code",
   "execution_count": 54,
   "metadata": {},
   "outputs": [
    {
     "data": {
      "text/html": [
       "<div>\n",
       "<style scoped>\n",
       "    .dataframe tbody tr th:only-of-type {\n",
       "        vertical-align: middle;\n",
       "    }\n",
       "\n",
       "    .dataframe tbody tr th {\n",
       "        vertical-align: top;\n",
       "    }\n",
       "\n",
       "    .dataframe thead th {\n",
       "        text-align: right;\n",
       "    }\n",
       "</style>\n",
       "<table border=\"1\" class=\"dataframe\">\n",
       "  <thead>\n",
       "    <tr style=\"text-align: right;\">\n",
       "      <th></th>\n",
       "      <th>Date</th>\n",
       "      <th>Open</th>\n",
       "      <th>High</th>\n",
       "      <th>Low</th>\n",
       "      <th>Close</th>\n",
       "      <th>Adj Close</th>\n",
       "      <th>Volume</th>\n",
       "    </tr>\n",
       "  </thead>\n",
       "  <tbody>\n",
       "    <tr>\n",
       "      <th>0</th>\n",
       "      <td>2019-05-20</td>\n",
       "      <td>2841.939941</td>\n",
       "      <td>2853.860107</td>\n",
       "      <td>2831.290039</td>\n",
       "      <td>2840.229980</td>\n",
       "      <td>2840.229980</td>\n",
       "      <td>3288870000</td>\n",
       "    </tr>\n",
       "    <tr>\n",
       "      <th>1</th>\n",
       "      <td>2019-05-21</td>\n",
       "      <td>2854.020020</td>\n",
       "      <td>2868.879883</td>\n",
       "      <td>2854.020020</td>\n",
       "      <td>2864.360107</td>\n",
       "      <td>2864.360107</td>\n",
       "      <td>3218700000</td>\n",
       "    </tr>\n",
       "    <tr>\n",
       "      <th>2</th>\n",
       "      <td>2019-05-22</td>\n",
       "      <td>2856.060059</td>\n",
       "      <td>2865.469971</td>\n",
       "      <td>2851.110107</td>\n",
       "      <td>2856.270020</td>\n",
       "      <td>2856.270020</td>\n",
       "      <td>3192510000</td>\n",
       "    </tr>\n",
       "    <tr>\n",
       "      <th>3</th>\n",
       "      <td>2019-05-23</td>\n",
       "      <td>2836.699951</td>\n",
       "      <td>2836.699951</td>\n",
       "      <td>2805.489990</td>\n",
       "      <td>2822.239990</td>\n",
       "      <td>2822.239990</td>\n",
       "      <td>3891980000</td>\n",
       "    </tr>\n",
       "    <tr>\n",
       "      <th>4</th>\n",
       "      <td>2019-05-24</td>\n",
       "      <td>2832.409912</td>\n",
       "      <td>2841.360107</td>\n",
       "      <td>2820.189941</td>\n",
       "      <td>2826.060059</td>\n",
       "      <td>2826.060059</td>\n",
       "      <td>2887390000</td>\n",
       "    </tr>\n",
       "    <tr>\n",
       "      <th>5</th>\n",
       "      <td>2019-05-28</td>\n",
       "      <td>2830.030029</td>\n",
       "      <td>2840.510010</td>\n",
       "      <td>2801.580078</td>\n",
       "      <td>2802.389893</td>\n",
       "      <td>2802.389893</td>\n",
       "      <td>4121410000</td>\n",
       "    </tr>\n",
       "    <tr>\n",
       "      <th>6</th>\n",
       "      <td>2019-05-29</td>\n",
       "      <td>2790.250000</td>\n",
       "      <td>2792.030029</td>\n",
       "      <td>2766.060059</td>\n",
       "      <td>2783.020020</td>\n",
       "      <td>2783.020020</td>\n",
       "      <td>3700050000</td>\n",
       "    </tr>\n",
       "    <tr>\n",
       "      <th>7</th>\n",
       "      <td>2019-05-30</td>\n",
       "      <td>2786.939941</td>\n",
       "      <td>2799.000000</td>\n",
       "      <td>2776.739990</td>\n",
       "      <td>2788.860107</td>\n",
       "      <td>2788.860107</td>\n",
       "      <td>3273790000</td>\n",
       "    </tr>\n",
       "    <tr>\n",
       "      <th>8</th>\n",
       "      <td>2019-05-31</td>\n",
       "      <td>2766.149902</td>\n",
       "      <td>2768.979980</td>\n",
       "      <td>2750.520020</td>\n",
       "      <td>2752.060059</td>\n",
       "      <td>2752.060059</td>\n",
       "      <td>3981020000</td>\n",
       "    </tr>\n",
       "    <tr>\n",
       "      <th>9</th>\n",
       "      <td>2019-06-03</td>\n",
       "      <td>2751.530029</td>\n",
       "      <td>2763.070068</td>\n",
       "      <td>2728.810059</td>\n",
       "      <td>2744.449951</td>\n",
       "      <td>2744.449951</td>\n",
       "      <td>3943810000</td>\n",
       "    </tr>\n",
       "    <tr>\n",
       "      <th>10</th>\n",
       "      <td>2019-06-04</td>\n",
       "      <td>2762.639893</td>\n",
       "      <td>2804.489990</td>\n",
       "      <td>2762.639893</td>\n",
       "      <td>2803.270020</td>\n",
       "      <td>2803.270020</td>\n",
       "      <td>3810430000</td>\n",
       "    </tr>\n",
       "    <tr>\n",
       "      <th>11</th>\n",
       "      <td>2019-06-05</td>\n",
       "      <td>2818.090088</td>\n",
       "      <td>2827.280029</td>\n",
       "      <td>2800.919922</td>\n",
       "      <td>2826.149902</td>\n",
       "      <td>2826.149902</td>\n",
       "      <td>3548830000</td>\n",
       "    </tr>\n",
       "    <tr>\n",
       "      <th>12</th>\n",
       "      <td>2019-06-06</td>\n",
       "      <td>2828.510010</td>\n",
       "      <td>2852.100098</td>\n",
       "      <td>2822.449951</td>\n",
       "      <td>2843.489990</td>\n",
       "      <td>2843.489990</td>\n",
       "      <td>3396410000</td>\n",
       "    </tr>\n",
       "    <tr>\n",
       "      <th>13</th>\n",
       "      <td>2019-06-07</td>\n",
       "      <td>2852.870117</td>\n",
       "      <td>2884.969971</td>\n",
       "      <td>2852.870117</td>\n",
       "      <td>2873.340088</td>\n",
       "      <td>2873.340088</td>\n",
       "      <td>3220250000</td>\n",
       "    </tr>\n",
       "    <tr>\n",
       "      <th>14</th>\n",
       "      <td>2019-06-10</td>\n",
       "      <td>2885.830078</td>\n",
       "      <td>2904.770020</td>\n",
       "      <td>2885.510010</td>\n",
       "      <td>2886.729980</td>\n",
       "      <td>2886.729980</td>\n",
       "      <td>3209210000</td>\n",
       "    </tr>\n",
       "    <tr>\n",
       "      <th>15</th>\n",
       "      <td>2019-06-11</td>\n",
       "      <td>2903.270020</td>\n",
       "      <td>2910.610107</td>\n",
       "      <td>2878.530029</td>\n",
       "      <td>2885.719971</td>\n",
       "      <td>2885.719971</td>\n",
       "      <td>3548420000</td>\n",
       "    </tr>\n",
       "    <tr>\n",
       "      <th>16</th>\n",
       "      <td>2019-06-12</td>\n",
       "      <td>2882.729980</td>\n",
       "      <td>2888.570068</td>\n",
       "      <td>2874.679932</td>\n",
       "      <td>2879.840088</td>\n",
       "      <td>2879.840088</td>\n",
       "      <td>3034130000</td>\n",
       "    </tr>\n",
       "    <tr>\n",
       "      <th>17</th>\n",
       "      <td>2019-06-13</td>\n",
       "      <td>2886.239990</td>\n",
       "      <td>2895.239990</td>\n",
       "      <td>2881.989990</td>\n",
       "      <td>2891.639893</td>\n",
       "      <td>2891.639893</td>\n",
       "      <td>3069810000</td>\n",
       "    </tr>\n",
       "    <tr>\n",
       "      <th>18</th>\n",
       "      <td>2019-06-14</td>\n",
       "      <td>2886.820068</td>\n",
       "      <td>2894.449951</td>\n",
       "      <td>2879.620117</td>\n",
       "      <td>2886.979980</td>\n",
       "      <td>2886.979980</td>\n",
       "      <td>2922330000</td>\n",
       "    </tr>\n",
       "    <tr>\n",
       "      <th>19</th>\n",
       "      <td>2019-06-17</td>\n",
       "      <td>2889.750000</td>\n",
       "      <td>2897.270020</td>\n",
       "      <td>2887.300049</td>\n",
       "      <td>2889.669922</td>\n",
       "      <td>2889.669922</td>\n",
       "      <td>1579314342</td>\n",
       "    </tr>\n",
       "  </tbody>\n",
       "</table>\n",
       "</div>"
      ],
      "text/plain": [
       "          Date         Open         High          Low        Close  \\\n",
       "0   2019-05-20  2841.939941  2853.860107  2831.290039  2840.229980   \n",
       "1   2019-05-21  2854.020020  2868.879883  2854.020020  2864.360107   \n",
       "2   2019-05-22  2856.060059  2865.469971  2851.110107  2856.270020   \n",
       "3   2019-05-23  2836.699951  2836.699951  2805.489990  2822.239990   \n",
       "4   2019-05-24  2832.409912  2841.360107  2820.189941  2826.060059   \n",
       "5   2019-05-28  2830.030029  2840.510010  2801.580078  2802.389893   \n",
       "6   2019-05-29  2790.250000  2792.030029  2766.060059  2783.020020   \n",
       "7   2019-05-30  2786.939941  2799.000000  2776.739990  2788.860107   \n",
       "8   2019-05-31  2766.149902  2768.979980  2750.520020  2752.060059   \n",
       "9   2019-06-03  2751.530029  2763.070068  2728.810059  2744.449951   \n",
       "10  2019-06-04  2762.639893  2804.489990  2762.639893  2803.270020   \n",
       "11  2019-06-05  2818.090088  2827.280029  2800.919922  2826.149902   \n",
       "12  2019-06-06  2828.510010  2852.100098  2822.449951  2843.489990   \n",
       "13  2019-06-07  2852.870117  2884.969971  2852.870117  2873.340088   \n",
       "14  2019-06-10  2885.830078  2904.770020  2885.510010  2886.729980   \n",
       "15  2019-06-11  2903.270020  2910.610107  2878.530029  2885.719971   \n",
       "16  2019-06-12  2882.729980  2888.570068  2874.679932  2879.840088   \n",
       "17  2019-06-13  2886.239990  2895.239990  2881.989990  2891.639893   \n",
       "18  2019-06-14  2886.820068  2894.449951  2879.620117  2886.979980   \n",
       "19  2019-06-17  2889.750000  2897.270020  2887.300049  2889.669922   \n",
       "\n",
       "      Adj Close      Volume  \n",
       "0   2840.229980  3288870000  \n",
       "1   2864.360107  3218700000  \n",
       "2   2856.270020  3192510000  \n",
       "3   2822.239990  3891980000  \n",
       "4   2826.060059  2887390000  \n",
       "5   2802.389893  4121410000  \n",
       "6   2783.020020  3700050000  \n",
       "7   2788.860107  3273790000  \n",
       "8   2752.060059  3981020000  \n",
       "9   2744.449951  3943810000  \n",
       "10  2803.270020  3810430000  \n",
       "11  2826.149902  3548830000  \n",
       "12  2843.489990  3396410000  \n",
       "13  2873.340088  3220250000  \n",
       "14  2886.729980  3209210000  \n",
       "15  2885.719971  3548420000  \n",
       "16  2879.840088  3034130000  \n",
       "17  2891.639893  3069810000  \n",
       "18  2886.979980  2922330000  \n",
       "19  2889.669922  1579314342  "
      ]
     },
     "execution_count": 54,
     "metadata": {},
     "output_type": "execute_result"
    }
   ],
   "source": [
    "stock"
   ]
  },
  {
   "cell_type": "code",
   "execution_count": 55,
   "metadata": {},
   "outputs": [
    {
     "data": {
      "text/plain": [
       "(20, 7)"
      ]
     },
     "execution_count": 55,
     "metadata": {},
     "output_type": "execute_result"
    }
   ],
   "source": [
    "arr = np.array(stock) # 배열로 변환\n",
    "arr.shape"
   ]
  },
  {
   "cell_type": "code",
   "execution_count": 56,
   "metadata": {},
   "outputs": [
    {
     "data": {
      "text/plain": [
       "array([['2019-05-20', 2841.939941, 2853.860107, 2831.290039, 2840.22998,\n",
       "        2840.22998, 3288870000],\n",
       "       ['2019-05-21', 2854.02002, 2868.8798829999996, 2854.02002,\n",
       "        2864.360107, 2864.360107, 3218700000],\n",
       "       ['2019-05-22', 2856.060059, 2865.469971, 2851.110107, 2856.27002,\n",
       "        2856.27002, 3192510000],\n",
       "       ['2019-05-23', 2836.699951, 2836.699951, 2805.48999, 2822.23999,\n",
       "        2822.23999, 3891980000],\n",
       "       ['2019-05-24', 2832.409912, 2841.360107, 2820.189941, 2826.060059,\n",
       "        2826.060059, 2887390000],\n",
       "       ['2019-05-28', 2830.030029, 2840.51001, 2801.580078, 2802.389893,\n",
       "        2802.389893, 4121410000],\n",
       "       ['2019-05-29', 2790.25, 2792.030029, 2766.060059, 2783.02002,\n",
       "        2783.02002, 3700050000],\n",
       "       ['2019-05-30', 2786.939941, 2799.0, 2776.73999, 2788.860107,\n",
       "        2788.860107, 3273790000],\n",
       "       ['2019-05-31', 2766.149902, 2768.97998, 2750.52002, 2752.060059,\n",
       "        2752.060059, 3981020000],\n",
       "       ['2019-06-03', 2751.530029, 2763.070068, 2728.810059, 2744.449951,\n",
       "        2744.449951, 3943810000],\n",
       "       ['2019-06-04', 2762.639893, 2804.48999, 2762.639893, 2803.27002,\n",
       "        2803.27002, 3810430000],\n",
       "       ['2019-06-05', 2818.090088, 2827.280029, 2800.919922, 2826.149902,\n",
       "        2826.149902, 3548830000],\n",
       "       ['2019-06-06', 2828.51001, 2852.100098, 2822.449951, 2843.48999,\n",
       "        2843.48999, 3396410000],\n",
       "       ['2019-06-07', 2852.8701170000004, 2884.969971,\n",
       "        2852.8701170000004, 2873.340088, 2873.340088, 3220250000],\n",
       "       ['2019-06-10', 2885.830078, 2904.77002, 2885.51001, 2886.72998,\n",
       "        2886.72998, 3209210000],\n",
       "       ['2019-06-11', 2903.27002, 2910.610107, 2878.530029, 2885.719971,\n",
       "        2885.719971, 3548420000],\n",
       "       ['2019-06-12', 2882.72998, 2888.570068, 2874.679932, 2879.840088,\n",
       "        2879.840088, 3034130000],\n",
       "       ['2019-06-13', 2886.23999, 2895.23999, 2881.98999, 2891.639893,\n",
       "        2891.639893, 3069810000],\n",
       "       ['2019-06-14', 2886.820068, 2894.449951, 2879.6201170000004,\n",
       "        2886.97998, 2886.97998, 2922330000],\n",
       "       ['2019-06-17', 2889.75, 2897.27002, 2887.300049, 2889.669922,\n",
       "        2889.669922, 1579314342]], dtype=object)"
      ]
     },
     "execution_count": 56,
     "metadata": {},
     "output_type": "execute_result"
    }
   ],
   "source": [
    "arr"
   ]
  },
  {
   "cell_type": "code",
   "execution_count": 61,
   "metadata": {},
   "outputs": [
    {
     "data": {
      "text/plain": [
       "array([ True,  True,  True,  True,  True,  True,  True])"
      ]
     },
     "execution_count": 61,
     "metadata": {},
     "output_type": "execute_result"
    }
   ],
   "source": [
    "arr[0] == arr [0, :]#첫번째 행"
   ]
  },
  {
   "cell_type": "code",
   "execution_count": 62,
   "metadata": {},
   "outputs": [
    {
     "data": {
      "text/plain": [
       "('2019-05-20', 1579314342)"
      ]
     },
     "execution_count": 62,
     "metadata": {},
     "output_type": "execute_result"
    }
   ],
   "source": [
    "arr[0, 0], arr[-1,-1] #첫번째 행의 첫번째 열, 막지막 행의 마지막 열"
   ]
  },
  {
   "cell_type": "code",
   "execution_count": 68,
   "metadata": {},
   "outputs": [
    {
     "data": {
      "text/plain": [
       "array([2841.939941, 2854.02002, 2856.060059, 2836.699951, 2832.409912,\n",
       "       2830.030029, 2790.25, 2786.939941, 2766.149902, 2751.530029,\n",
       "       2762.639893, 2818.090088, 2828.51001, 2852.8701170000004,\n",
       "       2885.830078, 2903.27002, 2882.72998, 2886.23999, 2886.820068,\n",
       "       2889.75], dtype=object)"
      ]
     },
     "execution_count": 68,
     "metadata": {},
     "output_type": "execute_result"
    }
   ],
   "source": [
    "# Open 만 가져오자\n",
    "# Date\tOpen\tHigh\tLow\tClose\tAdj Close\tVolume\n",
    "o = arr[:, 1]\n",
    "o"
   ]
  },
  {
   "cell_type": "code",
   "execution_count": 71,
   "metadata": {},
   "outputs": [
    {
     "data": {
      "text/plain": [
       "(2903.27002,\n",
       " 2751.530029,\n",
       " 2903.27002,\n",
       " 2751.530029,\n",
       " 2837.1390014000003,\n",
       " 2839.319946,\n",
       " 45.016996538592394)"
      ]
     },
     "execution_count": 71,
     "metadata": {},
     "output_type": "execute_result"
    }
   ],
   "source": [
    "# b(below) 아래쪽에 셀 만들기\n",
    "# open 의 최대값, 최소값, 평균을 구해보자\n",
    "# 내장 함수 (import 없이 바로 사용)\n",
    "# 통계치, 평균, 중간값, 표준편차\n",
    "max(o), min(o), np.max(o), np.min(o), np.mean(o), np.median(o), np.std(o)"
   ]
  },
  {
   "cell_type": "code",
   "execution_count": 64,
   "metadata": {},
   "outputs": [
    {
     "data": {
      "text/plain": [
       "array([2840.22998, 2864.360107, 2856.27002, 2822.23999, 2826.060059,\n",
       "       2802.389893, 2783.02002, 2788.860107, 2752.060059, 2744.449951,\n",
       "       2803.27002, 2826.149902, 2843.48999, 2873.340088, 2886.72998,\n",
       "       2885.719971, 2879.840088, 2891.639893, 2886.97998, 2889.669922],\n",
       "      dtype=object)"
      ]
     },
     "execution_count": 64,
     "metadata": {},
     "output_type": "execute_result"
    }
   ],
   "source": [
    "# Close만 가져오자\n",
    "Close = arr[:,4]  # 도 가능 하지만\n",
    "Close = arr[:, -3] # 이 편합니다\n",
    "Close"
   ]
  },
  {
   "cell_type": "code",
   "execution_count": 74,
   "metadata": {},
   "outputs": [
    {
     "data": {
      "text/plain": [
       "(20, 4)"
      ]
     },
     "execution_count": 74,
     "metadata": {},
     "output_type": "execute_result"
    }
   ],
   "source": [
    "# Open\tHigh\tLow\tClose 4개의 컬럼만 뽑자\n",
    "# [시작:끝]\n",
    "v4 = arr [:,1:5]\n",
    "v4.shape"
   ]
  },
  {
   "cell_type": "raw",
   "metadata": {},
   "source": [
    "축 : axis\n",
    "2차원 데이터는 2개의 축이 있습니다. 행축, 열출"
   ]
  },
  {
   "cell_type": "code",
   "execution_count": 78,
   "metadata": {},
   "outputs": [
    {
     "data": {
      "text/plain": [
       "array([2903.27002, 2910.610107, 2887.300049, 2891.639893], dtype=object)"
      ]
     },
     "execution_count": 78,
     "metadata": {},
     "output_type": "execute_result"
    }
   ],
   "source": [
    "np.max(v4, axis=0)"
   ]
  },
  {
   "cell_type": "code",
   "execution_count": 80,
   "metadata": {},
   "outputs": [
    {
     "data": {
      "text/plain": [
       "(2903.27002, 15)"
      ]
     },
     "execution_count": 80,
     "metadata": {},
     "output_type": "execute_result"
    }
   ],
   "source": [
    "# argmax, argmin 맥스값의 위치\n",
    "o\n",
    "np.max(o), np.argmax(o)"
   ]
  },
  {
   "cell_type": "markdown",
   "metadata": {},
   "source": [
    "주가가 가장 많이 상승한 날짜를 찾아보세요 ( 정답 : X 번째 행입니다)\n",
    "(종가 - 시작) 이 가장 큰 날짜입니다."
   ]
  },
  {
   "cell_type": "code",
   "execution_count": 94,
   "metadata": {},
   "outputs": [],
   "source": [
    "day = arr[:, 0]\n",
    "close_v = arr[:,-3]\n",
    "open_v = arr[:,1]\n",
    "gap = close_v - open_v"
   ]
  },
  {
   "cell_type": "code",
   "execution_count": 95,
   "metadata": {},
   "outputs": [
    {
     "data": {
      "text/plain": [
       "(40.6301269999999, 10, '2019-06-04')"
      ]
     },
     "execution_count": 95,
     "metadata": {},
     "output_type": "execute_result"
    }
   ],
   "source": [
    "np.max(gap), np.argmax(gap), day[np.argmax(gap)]"
   ]
  },
  {
   "cell_type": "markdown",
   "metadata": {},
   "source": [
    "##### 데이터 분석\n",
    "- 가격 상승하는 날 거래량이 많아질까?\n",
    "- 전날 가격이 상승하면 다음날 시작가격은 더 높으 가격에서 시작할까?\n",
    "- 가격 변동이 크면 거래량도 많아질까?"
   ]
  },
  {
   "cell_type": "markdown",
   "metadata": {},
   "source": [
    "##### 다음 단계  : 예측\n",
    "- 어제/오늘 현황 분석이 끝났는데 내일은 Open/Close 이 어떻게 될까\n",
    "- 방법 : 1. 통계적(R) 2. 머신러닝"
   ]
  },
  {
   "cell_type": "markdown",
   "metadata": {},
   "source": [
    "- 가격이 상승한 횟수, 가격이 하락한 횟수\n"
   ]
  },
  {
   "cell_type": "code",
   "execution_count": 103,
   "metadata": {},
   "outputs": [],
   "source": [
    "# 가격 상승하는 날 거래량이 많아질까?\n",
    "# > 상승한 날의 거래량 / 하락한 날의 거래량\n",
    "close_v = arr[:,-3]\n",
    "open_v = arr[:,1]\n",
    "vol = arr[:,-1]\n",
    "gap = close_v - open_v"
   ]
  },
  {
   "cell_type": "code",
   "execution_count": 106,
   "metadata": {},
   "outputs": [
    {
     "data": {
      "text/plain": [
       "(3286227000.0, 3397639434.2)"
      ]
     },
     "execution_count": 106,
     "metadata": {},
     "output_type": "execute_result"
    }
   ],
   "source": [
    "# 상승한 날의 거래량의 평균\n",
    "np.mean(vol[gap > 0]), np.mean(vol[gap < 0])"
   ]
  },
  {
   "cell_type": "code",
   "execution_count": 107,
   "metadata": {},
   "outputs": [
    {
     "data": {
      "text/plain": [
       "False"
      ]
     },
     "execution_count": 107,
     "metadata": {},
     "output_type": "execute_result"
    }
   ],
   "source": [
    "# 상승한 날의 거래량이 더 많나?\n",
    "np.mean(vol[gap > 0]) > np.mean(vol[gap < 0])"
   ]
  },
  {
   "cell_type": "code",
   "execution_count": 97,
   "metadata": {},
   "outputs": [
    {
     "data": {
      "text/plain": [
       "array([False,  True, False,  True])"
      ]
     },
     "execution_count": 97,
     "metadata": {},
     "output_type": "execute_result"
    }
   ],
   "source": [
    "# 조건부 검색\n",
    "a = np.array([1,2,3,4])\n",
    "even = a%2==0 # 짝수값만 뽑고 싶다\n",
    "even # 불린 마스크"
   ]
  },
  {
   "cell_type": "code",
   "execution_count": 99,
   "metadata": {},
   "outputs": [
    {
     "data": {
      "text/plain": [
       "array([2, 4])"
      ]
     },
     "execution_count": 99,
     "metadata": {},
     "output_type": "execute_result"
    }
   ],
   "source": [
    "# 불린 마스크를 인덱스로 사용하면 True값 만 뽑힙니다.\n",
    "a[even]"
   ]
  },
  {
   "cell_type": "code",
   "execution_count": 108,
   "metadata": {},
   "outputs": [],
   "source": [
    "import numpy as np"
   ]
  },
  {
   "cell_type": "code",
   "execution_count": 109,
   "metadata": {},
   "outputs": [],
   "source": [
    "a = np.array([1,2,3])"
   ]
  },
  {
   "cell_type": "code",
   "execution_count": 112,
   "metadata": {},
   "outputs": [
    {
     "data": {
      "text/plain": [
       "(array([1, 2, 3]), dtype('int32'), (3,))"
      ]
     },
     "execution_count": 112,
     "metadata": {},
     "output_type": "execute_result"
    }
   ],
   "source": [
    "a, a.dtype, a.shape"
   ]
  },
  {
   "cell_type": "code",
   "execution_count": 119,
   "metadata": {},
   "outputs": [
    {
     "data": {
      "text/plain": [
       "array([[[0, 0, 0, 0],\n",
       "        [0, 0, 0, 0],\n",
       "        [0, 0, 0, 0]],\n",
       "\n",
       "       [[0, 0, 0, 0],\n",
       "        [0, 0, 0, 0],\n",
       "        [0, 0, 0, 0]]])"
      ]
     },
     "execution_count": 119,
     "metadata": {},
     "output_type": "execute_result"
    }
   ],
   "source": [
    "np.zeros(shape=(2, 3, 4), dtype=np.int32)"
   ]
  },
  {
   "cell_type": "code",
   "execution_count": 121,
   "metadata": {},
   "outputs": [
    {
     "data": {
      "text/plain": [
       "array([[[1, 1, 1, 1],\n",
       "        [1, 1, 1, 1]],\n",
       "\n",
       "       [[1, 1, 1, 1],\n",
       "        [1, 1, 1, 1]],\n",
       "\n",
       "       [[1, 1, 1, 1],\n",
       "        [1, 1, 1, 1]]])"
      ]
     },
     "execution_count": 121,
     "metadata": {},
     "output_type": "execute_result"
    }
   ],
   "source": [
    "np.ones(shape=(3, 2, 4), dtype=np.int32)"
   ]
  },
  {
   "cell_type": "code",
   "execution_count": 125,
   "metadata": {},
   "outputs": [
    {
     "data": {
      "text/plain": [
       "array([[[3.14, 3.14, 3.14, 3.14],\n",
       "        [3.14, 3.14, 3.14, 3.14],\n",
       "        [3.14, 3.14, 3.14, 3.14]],\n",
       "\n",
       "       [[3.14, 3.14, 3.14, 3.14],\n",
       "        [3.14, 3.14, 3.14, 3.14],\n",
       "        [3.14, 3.14, 3.14, 3.14]]])"
      ]
     },
     "execution_count": 125,
     "metadata": {},
     "output_type": "execute_result"
    }
   ],
   "source": [
    "np.full((2, 3, 4), 3.14)"
   ]
  },
  {
   "cell_type": "code",
   "execution_count": 127,
   "metadata": {},
   "outputs": [
    {
     "data": {
      "text/plain": [
       "array([[1., 0., 0., 0.],\n",
       "       [0., 1., 0., 0.],\n",
       "       [0., 0., 1., 0.],\n",
       "       [0., 0., 0., 1.]])"
      ]
     },
     "execution_count": 127,
     "metadata": {},
     "output_type": "execute_result"
    }
   ],
   "source": [
    "np.eye(4) # 대각 성분 만 1인 2차원 배열"
   ]
  },
  {
   "cell_type": "code",
   "execution_count": 130,
   "metadata": {},
   "outputs": [
    {
     "data": {
      "text/plain": [
       "array([0, 3, 6, 9])"
      ]
     },
     "execution_count": 130,
     "metadata": {},
     "output_type": "execute_result"
    }
   ],
   "source": [
    "np.arange(0,10,3)"
   ]
  },
  {
   "cell_type": "code",
   "execution_count": 134,
   "metadata": {},
   "outputs": [
    {
     "data": {
      "text/plain": [
       "array([ 1. ,  5.5, 10. ])"
      ]
     },
     "execution_count": 134,
     "metadata": {},
     "output_type": "execute_result"
    }
   ],
   "source": [
    "np.linspace (1,10,5) # 시작값, 끝값, x등분\n",
    "np.linspace (1,10,3)"
   ]
  },
  {
   "cell_type": "code",
   "execution_count": 135,
   "metadata": {},
   "outputs": [
    {
     "data": {
      "text/plain": [
       "array([  0.        ,  33.33333333,  66.66666667, 100.        ])"
      ]
     },
     "execution_count": 135,
     "metadata": {},
     "output_type": "execute_result"
    }
   ],
   "source": [
    "# width 100 M, 건물 3채\n",
    "np.linspace (0,100,3+1)"
   ]
  },
  {
   "cell_type": "code",
   "execution_count": 137,
   "metadata": {},
   "outputs": [
    {
     "data": {
      "text/plain": [
       "3"
      ]
     },
     "execution_count": 137,
     "metadata": {},
     "output_type": "execute_result"
    }
   ],
   "source": [
    "import random\n",
    "random.randint(1,10)"
   ]
  },
  {
   "cell_type": "code",
   "execution_count": 139,
   "metadata": {},
   "outputs": [
    {
     "data": {
      "text/plain": [
       "array([[0.73253627, 0.17422518, 0.63096446],\n",
       "       [0.30023147, 0.88897651, 0.4147058 ]])"
      ]
     },
     "execution_count": 139,
     "metadata": {},
     "output_type": "execute_result"
    }
   ],
   "source": [
    "np.random.rand(2,3) #[0,1]"
   ]
  },
  {
   "cell_type": "code",
   "execution_count": 141,
   "metadata": {},
   "outputs": [
    {
     "data": {
      "text/plain": [
       "array([[-1.03630373, -0.99827213,  0.44687472],\n",
       "       [ 0.7405412 , -0.06838305, -0.98739081]])"
      ]
     },
     "execution_count": 141,
     "metadata": {},
     "output_type": "execute_result"
    }
   ],
   "source": [
    "np.random.normal(size=(2,3)) #종모양의 정규 분포, 평균값이 많이 뽑힙니다."
   ]
  },
  {
   "cell_type": "code",
   "execution_count": 142,
   "metadata": {},
   "outputs": [
    {
     "data": {
      "text/plain": [
       "array([[8, 5, 9],\n",
       "       [1, 5, 6]])"
      ]
     },
     "execution_count": 142,
     "metadata": {},
     "output_type": "execute_result"
    }
   ],
   "source": [
    "np.random.randint(low=1, high=10, size=(2,3))"
   ]
  },
  {
   "cell_type": "code",
   "execution_count": 146,
   "metadata": {},
   "outputs": [
    {
     "data": {
      "text/plain": [
       "array([[0.37121206, 0.93430818, 0.30924245],\n",
       "       [0.16715633, 0.24864109, 0.95247762]])"
      ]
     },
     "execution_count": 146,
     "metadata": {},
     "output_type": "execute_result"
    }
   ],
   "source": [
    "np.random.uniform(size=(2,3)) #전체값에서 균등하게 뽑힙니다. 제어 가능"
   ]
  },
  {
   "cell_type": "code",
   "execution_count": 152,
   "metadata": {},
   "outputs": [
    {
     "data": {
      "text/plain": [
       "array([[2., 2.],\n",
       "       [2., 2.],\n",
       "       [2., 2.]])"
      ]
     },
     "execution_count": 152,
     "metadata": {},
     "output_type": "execute_result"
    }
   ],
   "source": [
    "a = np.ones(shape=(3,2), dtype=np.int)\n",
    "b = np.ones(shape=(3,2), dtype=np.float) # broadcasting\n",
    "a + b"
   ]
  },
  {
   "cell_type": "code",
   "execution_count": 154,
   "metadata": {},
   "outputs": [
    {
     "data": {
      "text/plain": [
       "array([0, 1, 2, 3, 4, 5])"
      ]
     },
     "execution_count": 154,
     "metadata": {},
     "output_type": "execute_result"
    }
   ],
   "source": [
    "# 행우선으로 저장됩니다.\n",
    "a = np.arange(6)\n",
    "a"
   ]
  },
  {
   "cell_type": "code",
   "execution_count": 167,
   "metadata": {},
   "outputs": [
    {
     "data": {
      "text/plain": [
       "array([[0, 1, 2],\n",
       "       [3, 4, 5]])"
      ]
     },
     "execution_count": 167,
     "metadata": {},
     "output_type": "execute_result"
    }
   ],
   "source": [
    "\n",
    "'''\n",
    "Fortran,R 은 기본 방향이 열방향\n",
    "[[0,3]\n",
    " [1,4]\n",
    " [2.5]]\n",
    "'''\n",
    "b = a.reshape((2,3))\n",
    "b"
   ]
  },
  {
   "cell_type": "code",
   "execution_count": 161,
   "metadata": {},
   "outputs": [
    {
     "data": {
      "text/plain": [
       "(2, (2, 3), 6, dtype('int32'), 24)"
      ]
     },
     "execution_count": 161,
     "metadata": {},
     "output_type": "execute_result"
    }
   ],
   "source": [
    "# 차원, 모양, 총 요소 갯수, 데이터 타입, 메모리 사용량\n",
    "b.ndim, b.shape, b.size, b.dtype, b.nbytes"
   ]
  },
  {
   "cell_type": "code",
   "execution_count": 165,
   "metadata": {},
   "outputs": [
    {
     "data": {
      "text/plain": [
       "array([0, 1, 2, 3, 4, 5])"
      ]
     },
     "execution_count": 165,
     "metadata": {},
     "output_type": "execute_result"
    }
   ],
   "source": [
    "b.flatten() # 1차원으로 변환 flatten:평면화"
   ]
  },
  {
   "cell_type": "code",
   "execution_count": 169,
   "metadata": {},
   "outputs": [
    {
     "data": {
      "text/plain": [
       "array([[0, 1, 2],\n",
       "       [3, 4, 5],\n",
       "       [6, 7, 8]])"
      ]
     },
     "execution_count": 169,
     "metadata": {},
     "output_type": "execute_result"
    }
   ],
   "source": [
    "# slicing : 데이터를 자르기\n",
    "a = np.arange(9).reshape((3,3))\n",
    "a"
   ]
  },
  {
   "cell_type": "markdown",
   "metadata": {},
   "source": [
    "##### a에서 다음 원소들을 잘라주세요 [시작 :끝,시작:끝]\n",
    "- [1,4,7]\n",
    "- [6,7,8]\n",
    "- [1,2,4,5,7,8]\n",
    "- [4,5,7,8]"
   ]
  },
  {
   "cell_type": "code",
   "execution_count": 184,
   "metadata": {},
   "outputs": [
    {
     "data": {
      "text/plain": [
       "(array([1, 4, 7]),\n",
       " array([6, 7, 8]),\n",
       " array([1, 2, 4, 5, 7, 8]),\n",
       " array([4, 5, 7, 8]))"
      ]
     },
     "execution_count": 184,
     "metadata": {},
     "output_type": "execute_result"
    }
   ],
   "source": [
    "v1 = a[:,1]\n",
    "v2 = a[2,:]\n",
    "v3 = a[:,1:]\n",
    "v4 = a[1:, 1:]\n",
    "v1.flatten(), v2.flatten(), v3.flatten(), v4.flatten()"
   ]
  },
  {
   "cell_type": "code",
   "execution_count": 186,
   "metadata": {},
   "outputs": [
    {
     "data": {
      "text/plain": [
       "array([[ 0,  1,  2,  3],\n",
       "       [ 4,  5,  6,  7],\n",
       "       [ 8,  9, 10, 11]])"
      ]
     },
     "execution_count": 186,
     "metadata": {},
     "output_type": "execute_result"
    }
   ],
   "source": [
    "# slicing : 데이터를 자르기\n",
    "b = np.arange(12).reshape((3,4))\n",
    "b"
   ]
  },
  {
   "cell_type": "markdown",
   "metadata": {},
   "source": [
    "##### b에서 아래 요소/원소(element) 를 잘라(slice) 주세요 [시작 :끝,시작:끝]\n",
    "- [5,6,9,10]\n",
    "- [9,10,11]"
   ]
  },
  {
   "cell_type": "code",
   "execution_count": 189,
   "metadata": {},
   "outputs": [
    {
     "data": {
      "text/plain": [
       "(array([ 5,  6,  9, 10]), array([ 9, 10, 11]))"
      ]
     },
     "execution_count": 189,
     "metadata": {},
     "output_type": "execute_result"
    }
   ],
   "source": [
    "b[1:,1:-1].flatten(), b[-1,1:]"
   ]
  },
  {
   "cell_type": "code",
   "execution_count": 193,
   "metadata": {},
   "outputs": [
    {
     "data": {
      "text/plain": [
       "array([[[ 0,  1,  2,  3],\n",
       "        [ 4,  5,  6,  7],\n",
       "        [ 8,  9, 10, 11]],\n",
       "\n",
       "       [[12, 13, 14, 15],\n",
       "        [16, 17, 18, 19],\n",
       "        [20, 21, 22, 23]]])"
      ]
     },
     "execution_count": 193,
     "metadata": {},
     "output_type": "execute_result"
    }
   ],
   "source": [
    "# 3차원\n",
    "c = np.arange(2*3*4).reshape((2,3,4))\n",
    "c"
   ]
  },
  {
   "cell_type": "code",
   "execution_count": 194,
   "metadata": {},
   "outputs": [
    {
     "data": {
      "text/plain": [
       "array([[ 0,  1,  2,  3],\n",
       "       [ 4,  5,  6,  7],\n",
       "       [ 8,  9, 10, 11]])"
      ]
     },
     "execution_count": 194,
     "metadata": {},
     "output_type": "execute_result"
    }
   ],
   "source": [
    "c[0]"
   ]
  },
  {
   "cell_type": "code",
   "execution_count": 196,
   "metadata": {},
   "outputs": [
    {
     "data": {
      "text/plain": [
       "array([0, 1, 2, 3])"
      ]
     },
     "execution_count": 196,
     "metadata": {},
     "output_type": "execute_result"
    }
   ],
   "source": [
    "c[0, 0, :]"
   ]
  },
  {
   "cell_type": "code",
   "execution_count": 197,
   "metadata": {},
   "outputs": [
    {
     "data": {
      "text/plain": [
       "array([12, 13, 14, 15])"
      ]
     },
     "execution_count": 197,
     "metadata": {},
     "output_type": "execute_result"
    }
   ],
   "source": [
    "c[1, 0, :]"
   ]
  },
  {
   "cell_type": "code",
   "execution_count": 198,
   "metadata": {},
   "outputs": [
    {
     "data": {
      "text/plain": [
       "array([1, 5, 9])"
      ]
     },
     "execution_count": 198,
     "metadata": {},
     "output_type": "execute_result"
    }
   ],
   "source": [
    "c[0,:,1]"
   ]
  },
  {
   "cell_type": "code",
   "execution_count": 200,
   "metadata": {},
   "outputs": [
    {
     "data": {
      "text/plain": [
       "array([15, 19, 23])"
      ]
     },
     "execution_count": 200,
     "metadata": {},
     "output_type": "execute_result"
    }
   ],
   "source": [
    "c[1, :, -1]"
   ]
  },
  {
   "cell_type": "code",
   "execution_count": 205,
   "metadata": {},
   "outputs": [
    {
     "data": {
      "text/plain": [
       "(array([ 6, 10]), array([17, 18, 19]), array([[13, 14],\n",
       "        [17, 18]]))"
      ]
     },
     "execution_count": 205,
     "metadata": {},
     "output_type": "execute_result"
    }
   ],
   "source": [
    "# [ 6, 10], [17, 18, 19], [13,14,17,18]\n",
    "c[0,1:,2], c[1, 1, 1:], c[1,0:2,1:3]"
   ]
  },
  {
   "cell_type": "code",
   "execution_count": 213,
   "metadata": {},
   "outputs": [
    {
     "data": {
      "text/plain": [
       "(array([[ 0,  1,  2,  3],\n",
       "        [ 4,  5,  6,  7],\n",
       "        [ 8,  9, 10, 11],\n",
       "        [12, 13, 14, 15],\n",
       "        [16, 17, 18, 19],\n",
       "        [20, 21, 22, 23]]), array([[ 0,  1,  2,  3],\n",
       "        [ 4,  5,  6,  7],\n",
       "        [ 8,  9, 10, 11],\n",
       "        [12, 13, 14, 15],\n",
       "        [16, 17, 18, 19],\n",
       "        [20, 21, 22, 23]]))"
      ]
     },
     "execution_count": 213,
     "metadata": {},
     "output_type": "execute_result"
    }
   ],
   "source": [
    "c.shape\n",
    "c.reshape((6,4)), np.reshape(c, (6,4)) #편한대로 사용"
   ]
  },
  {
   "cell_type": "code",
   "execution_count": 215,
   "metadata": {},
   "outputs": [
    {
     "data": {
      "text/plain": [
       "(24, array([[ 0,  1,  2,  3,  4,  5,  6,  7,  8,  9, 10, 11],\n",
       "        [12, 13, 14, 15, 16, 17, 18, 19, 20, 21, 22, 23]]))"
      ]
     },
     "execution_count": 215,
     "metadata": {},
     "output_type": "execute_result"
    }
   ],
   "source": [
    "c.size, c.reshape((2,-1)) # -1 알아서 맞춰라"
   ]
  },
  {
   "cell_type": "code",
   "execution_count": 216,
   "metadata": {},
   "outputs": [
    {
     "data": {
      "text/plain": [
       "(array([[0, 1, 2],\n",
       "        [3, 4, 5]]), array([[ 6,  7,  8],\n",
       "        [ 9, 10, 11]]))"
      ]
     },
     "execution_count": 216,
     "metadata": {},
     "output_type": "execute_result"
    }
   ],
   "source": [
    "a = np.arange(6).reshape(2,3)\n",
    "b = np.arange(6,12).reshape(2,3)\n",
    "a, b"
   ]
  },
  {
   "cell_type": "code",
   "execution_count": 220,
   "metadata": {},
   "outputs": [
    {
     "data": {
      "text/plain": [
       "((2, 3), (6, 3), array([[ 0,  1,  2],\n",
       "        [ 3,  4,  5],\n",
       "        [ 6,  7,  8],\n",
       "        [ 9, 10, 11],\n",
       "        [ 0,  1,  2],\n",
       "        [ 3,  4,  5]]))"
      ]
     },
     "execution_count": 220,
     "metadata": {},
     "output_type": "execute_result"
    }
   ],
   "source": [
    "# 두 배열을 붙입니다 concatenate == concat\n",
    "c = np.concatenate((a,b,a), axis=0)\n",
    "a.shape, c.shape, c"
   ]
  },
  {
   "cell_type": "code",
   "execution_count": 221,
   "metadata": {},
   "outputs": [
    {
     "data": {
      "text/plain": [
       "array([[ 0,  1,  2,  6,  7,  8,  0,  1,  2],\n",
       "       [ 3,  4,  5,  9, 10, 11,  3,  4,  5]])"
      ]
     },
     "execution_count": 221,
     "metadata": {},
     "output_type": "execute_result"
    }
   ],
   "source": [
    "c = np.concatenate((a,b,a), axis=1)\n",
    "c"
   ]
  },
  {
   "cell_type": "code",
   "execution_count": 222,
   "metadata": {},
   "outputs": [
    {
     "data": {
      "text/plain": [
       "((2, 3), (2, 3))"
      ]
     },
     "execution_count": 222,
     "metadata": {},
     "output_type": "execute_result"
    }
   ],
   "source": [
    "# stack 쌓다\n",
    "a.shape, b.shape"
   ]
  },
  {
   "cell_type": "code",
   "execution_count": 232,
   "metadata": {},
   "outputs": [
    {
     "data": {
      "text/plain": [
       "array([[[ 0,  6,  0,  6],\n",
       "        [ 1,  7,  1,  7],\n",
       "        [ 2,  8,  2,  8]],\n",
       "\n",
       "       [[ 3,  9,  3,  9],\n",
       "        [ 4, 10,  4, 10],\n",
       "        [ 5, 11,  5, 11]]])"
      ]
     },
     "execution_count": 232,
     "metadata": {},
     "output_type": "execute_result"
    }
   ],
   "source": [
    "c = np.stack((a,b,a,b), axis=2) # axis를 지정한 곳에 배열들이 쌓입니다.\n",
    "c\n",
    "# axis=0 (4,2,3)\n",
    "# axis=1 (2,4,3)\n",
    "# axis=2 (2,3,4)"
   ]
  },
  {
   "cell_type": "code",
   "execution_count": 233,
   "metadata": {},
   "outputs": [
    {
     "data": {
      "text/plain": [
       "((2, 3), (2, 3), (2, 3, 4))"
      ]
     },
     "execution_count": 233,
     "metadata": {},
     "output_type": "execute_result"
    }
   ],
   "source": [
    "# stack 쌓다, 쌓으면 차원이 1 증가 합니다.\n",
    "a.shape, b.shape, c.shape"
   ]
  },
  {
   "cell_type": "code",
   "execution_count": 238,
   "metadata": {},
   "outputs": [
    {
     "data": {
      "text/plain": [
       "array([[80, 70],\n",
       "       [90, 50],\n",
       "       [99, 60]])"
      ]
     },
     "execution_count": 238,
     "metadata": {},
     "output_type": "execute_result"
    }
   ],
   "source": [
    "# stack 활용 예\n",
    "# [첫번째 학생, 두번째 학생, 세번째 학생]\n",
    "kor = [80, 90, 99]\n",
    "eng = [70, 50, 60]\n",
    "score = np.stack((kor, eng), axis=1)\n",
    "score"
   ]
  },
  {
   "cell_type": "code",
   "execution_count": 252,
   "metadata": {},
   "outputs": [
    {
     "data": {
      "text/plain": [
       "array([[80, 70, 20],\n",
       "       [90, 50, 30],\n",
       "       [99, 60, 40]])"
      ]
     },
     "execution_count": 252,
     "metadata": {},
     "output_type": "execute_result"
    }
   ],
   "source": [
    "# 3차원이 되면 안됩니다. \n",
    "math = np.array([20,30,40]).reshape(3,1)\n",
    "score2 = np.concatenate((score, math), axis=-1) # -1 은 마지막 차원을 가리킵니다.\n",
    "score2"
   ]
  },
  {
   "cell_type": "code",
   "execution_count": 246,
   "metadata": {},
   "outputs": [
    {
     "data": {
      "text/plain": [
       "array([[100,  90,  90]])"
      ]
     },
     "execution_count": 246,
     "metadata": {},
     "output_type": "execute_result"
    }
   ],
   "source": [
    "# 4번째 학생의 국영수 점수가 추가 됐습니다.\n",
    "# 모든 데이터를 하나로 통합해 보세요.\n",
    "score_4 = np.array([100,90,90]).reshape((1,3))\n",
    "score_4"
   ]
  },
  {
   "cell_type": "code",
   "execution_count": 265,
   "metadata": {},
   "outputs": [
    {
     "data": {
      "text/plain": [
       "array([[ 80,  70,  20],\n",
       "       [ 90,  50,  30],\n",
       "       [ 99,  60,  40],\n",
       "       [100,  90,  90]])"
      ]
     },
     "execution_count": 265,
     "metadata": {},
     "output_type": "execute_result"
    }
   ],
   "source": [
    "score5 = np.concatenate((score1, score_4), axis=0)\n",
    "score5"
   ]
  },
  {
   "cell_type": "code",
   "execution_count": 266,
   "metadata": {},
   "outputs": [
    {
     "data": {
      "text/plain": [
       "(4, 3)"
      ]
     },
     "execution_count": 266,
     "metadata": {},
     "output_type": "execute_result"
    }
   ],
   "source": [
    "score5.shape"
   ]
  },
  {
   "cell_type": "code",
   "execution_count": 262,
   "metadata": {},
   "outputs": [
    {
     "data": {
      "text/plain": [
       "array([92.25, 67.5 , 45.  ])"
      ]
     },
     "execution_count": 262,
     "metadata": {},
     "output_type": "execute_result"
    }
   ],
   "source": [
    "# 각 과목별 평균은?\n",
    "np.mean(score5, axis=0)"
   ]
  },
  {
   "cell_type": "code",
   "execution_count": 263,
   "metadata": {},
   "outputs": [
    {
     "data": {
      "text/plain": [
       "93.33333333333333"
      ]
     },
     "execution_count": 263,
     "metadata": {},
     "output_type": "execute_result"
    }
   ],
   "source": [
    "# 시험을 가장 잘 본 학생의 평균 점수는?\n",
    "np.max(np.mean(score5, axis=1))"
   ]
  },
  {
   "cell_type": "code",
   "execution_count": 264,
   "metadata": {},
   "outputs": [
    {
     "data": {
      "text/plain": [
       "92.25"
      ]
     },
     "execution_count": 264,
     "metadata": {},
     "output_type": "execute_result"
    }
   ],
   "source": [
    "# 3과목 평균중 가장 높은 점수는?\n",
    "np.max(np.mean(score5, axis=0))"
   ]
  },
  {
   "cell_type": "code",
   "execution_count": 267,
   "metadata": {},
   "outputs": [
    {
     "data": {
      "text/plain": [
       "array([[ 80,  70,  20],\n",
       "       [ 90,  50,  30],\n",
       "       [ 99,  60,  40],\n",
       "       [100,  90,  90]])"
      ]
     },
     "execution_count": 267,
     "metadata": {},
     "output_type": "execute_result"
    }
   ],
   "source": [
    "score5"
   ]
  },
  {
   "cell_type": "code",
   "execution_count": 269,
   "metadata": {},
   "outputs": [],
   "source": [
    "#np.save() #binary file Numpy ''.npy\n",
    "#(%10.5f)     '%.2f' : 소수점 2번째 자리가지 %d 정수만\n",
    "np.savetxt('score_sample.txt', score5, '%d' ) #text file."
   ]
  },
  {
   "cell_type": "code",
   "execution_count": 270,
   "metadata": {},
   "outputs": [
    {
     "data": {
      "text/plain": [
       "array([[ 80.,  70.,  20.],\n",
       "       [ 90.,  50.,  30.],\n",
       "       [ 99.,  60.,  40.],\n",
       "       [100.,  90.,  90.]])"
      ]
     },
     "execution_count": 270,
     "metadata": {},
     "output_type": "execute_result"
    }
   ],
   "source": [
    "#\n",
    "s = np.loadtxt('score_sample.txt')\n",
    "s"
   ]
  },
  {
   "cell_type": "code",
   "execution_count": 275,
   "metadata": {},
   "outputs": [
    {
     "data": {
      "text/plain": [
       "array([[ 80.,  70.,  20.],\n",
       "       [ 90.,  50.,  30.],\n",
       "       [ 99.,  60.,  40.],\n",
       "       [100.,  90.,  90.]])"
      ]
     },
     "execution_count": 275,
     "metadata": {},
     "output_type": "execute_result"
    }
   ],
   "source": [
    "s[:,:]"
   ]
  },
  {
   "cell_type": "code",
   "execution_count": 273,
   "metadata": {},
   "outputs": [
    {
     "data": {
      "text/plain": [
       "array([[ 20.,  70.,  80.],\n",
       "       [ 30.,  50.,  90.],\n",
       "       [ 40.,  60.,  99.],\n",
       "       [ 90.,  90., 100.]])"
      ]
     },
     "execution_count": 273,
     "metadata": {},
     "output_type": "execute_result"
    }
   ],
   "source": [
    "s[:,::-1] # 시작부터 끝까지 거꾸로"
   ]
  },
  {
   "cell_type": "code",
   "execution_count": 277,
   "metadata": {},
   "outputs": [
    {
     "data": {
      "text/plain": [
       "array([[ 80.,  20.],\n",
       "       [ 90.,  30.],\n",
       "       [ 99.,  40.],\n",
       "       [100.,  90.]])"
      ]
     },
     "execution_count": 277,
     "metadata": {},
     "output_type": "execute_result"
    }
   ],
   "source": [
    "s[:,::2] # 시작부터 끝까지 스텝(간격) 2"
   ]
  },
  {
   "cell_type": "code",
   "execution_count": 279,
   "metadata": {},
   "outputs": [
    {
     "data": {
      "text/plain": [
       "array([0, 1, 2, 3, 4, 5, 6, 7, 8, 9])"
      ]
     },
     "execution_count": 279,
     "metadata": {},
     "output_type": "execute_result"
    }
   ],
   "source": [
    "a = np.arange(10)\n",
    "a"
   ]
  },
  {
   "cell_type": "code",
   "execution_count": 280,
   "metadata": {},
   "outputs": [
    {
     "data": {
      "text/plain": [
       "(array([0, 2, 4, 6, 8]), array([1, 3, 5, 7, 9]), array([2, 4]))"
      ]
     },
     "execution_count": 280,
     "metadata": {},
     "output_type": "execute_result"
    }
   ],
   "source": [
    "# 시작부터 끝까지 2칸씩 뛰면서 = 짝수\n",
    "# 1번째 요소부터 끝까지 2칸씩 뛰면서 = 홀수\n",
    "# 2번쩨 요소부터 6번째 요소까지 2칸씩 뛰면서\n",
    "# [시작:끝:간격] 생략하면 가본값 시작=0 , 끝=끝, 간격=1\n",
    "a[::2], a[1::2], a[2:6:2]"
   ]
  },
  {
   "cell_type": "code",
   "execution_count": 282,
   "metadata": {},
   "outputs": [
    {
     "data": {
      "text/plain": [
       "[array([0, 1, 2]), array([3, 4, 5]), array([6, 7, 8, 9])]"
      ]
     },
     "execution_count": 282,
     "metadata": {},
     "output_type": "execute_result"
    }
   ],
   "source": [
    "# 분리하기 index의 복수가 indices\n",
    "np.split(a, [3,6]) #3 ,6의 위치를 잘라라"
   ]
  },
  {
   "cell_type": "code",
   "execution_count": 283,
   "metadata": {},
   "outputs": [
    {
     "data": {
      "text/plain": [
       "[array([0, 1, 2, 3, 4]), array([5, 6, 7, 8, 9])]"
      ]
     },
     "execution_count": 283,
     "metadata": {},
     "output_type": "execute_result"
    }
   ],
   "source": [
    "# 분리하기 Section 갯수\n",
    "\n",
    "np.split(a, 2)"
   ]
  },
  {
   "cell_type": "markdown",
   "metadata": {},
   "source": [
    "##### 브로드 캐스팅\n",
    "\n",
    "배열의 모영아 서로 다를 때 연산이 가능하게 해주는 기능"
   ]
  },
  {
   "cell_type": "code",
   "execution_count": 284,
   "metadata": {},
   "outputs": [
    {
     "data": {
      "text/plain": [
       "array([ 0,  2,  4,  6,  8, 10, 12, 14, 16, 18])"
      ]
     },
     "execution_count": 284,
     "metadata": {},
     "output_type": "execute_result"
    }
   ],
   "source": [
    "a * 2 #브로드 캐스팅이 적용되어 연산 가능"
   ]
  },
  {
   "cell_type": "code",
   "execution_count": 285,
   "metadata": {},
   "outputs": [
    {
     "data": {
      "text/plain": [
       "array([[ 0,  0,  0],\n",
       "       [10, 10, 10],\n",
       "       [20, 20, 20],\n",
       "       [30, 30, 30]])"
      ]
     },
     "execution_count": 285,
     "metadata": {},
     "output_type": "execute_result"
    }
   ],
   "source": [
    "a = np.array([0, 10, 20, 30])\n",
    "a = np.stack((a,a,a),1)\n",
    "a"
   ]
  },
  {
   "cell_type": "code",
   "execution_count": 287,
   "metadata": {},
   "outputs": [
    {
     "data": {
      "text/plain": [
       "array([0, 1, 2])"
      ]
     },
     "execution_count": 287,
     "metadata": {},
     "output_type": "execute_result"
    }
   ],
   "source": [
    "b = np.array([0,1,2])\n",
    "b"
   ]
  },
  {
   "cell_type": "code",
   "execution_count": 288,
   "metadata": {},
   "outputs": [
    {
     "data": {
      "text/plain": [
       "array([[ 0,  1,  2],\n",
       "       [10, 11, 12],\n",
       "       [20, 21, 22],\n",
       "       [30, 31, 32]])"
      ]
     },
     "execution_count": 288,
     "metadata": {},
     "output_type": "execute_result"
    }
   ],
   "source": [
    "a+b"
   ]
  },
  {
   "cell_type": "code",
   "execution_count": 289,
   "metadata": {},
   "outputs": [
    {
     "data": {
      "text/plain": [
       "array([[ 0],\n",
       "       [10],\n",
       "       [20],\n",
       "       [30]])"
      ]
     },
     "execution_count": 289,
     "metadata": {},
     "output_type": "execute_result"
    }
   ],
   "source": [
    "a = np.array([0, 10, 20, 30])\n",
    "c = np.reshape (a, [4,1])\n",
    "c"
   ]
  },
  {
   "cell_type": "code",
   "execution_count": 290,
   "metadata": {},
   "outputs": [
    {
     "data": {
      "text/plain": [
       "array([[ 0,  1,  2],\n",
       "       [10, 11, 12],\n",
       "       [20, 21, 22],\n",
       "       [30, 31, 32]])"
      ]
     },
     "execution_count": 290,
     "metadata": {},
     "output_type": "execute_result"
    }
   ],
   "source": [
    "c + b"
   ]
  },
  {
   "cell_type": "code",
   "execution_count": 299,
   "metadata": {},
   "outputs": [
    {
     "data": {
      "text/plain": [
       "((4, 1), (3,))"
      ]
     },
     "execution_count": 299,
     "metadata": {},
     "output_type": "execute_result"
    }
   ],
   "source": [
    "a = np.arange(4)*10\n",
    "a = a.reshape([-1, 1])\n",
    "b = np.arange(3)\n",
    "a.shape, b.shape"
   ]
  },
  {
   "cell_type": "markdown",
   "metadata": {},
   "source": [
    "비교 >< == >="
   ]
  },
  {
   "cell_type": "code",
   "execution_count": 300,
   "metadata": {},
   "outputs": [
    {
     "data": {
      "text/plain": [
       "False"
      ]
     },
     "execution_count": 300,
     "metadata": {},
     "output_type": "execute_result"
    }
   ],
   "source": [
    "7 == 3"
   ]
  },
  {
   "cell_type": "code",
   "execution_count": 304,
   "metadata": {},
   "outputs": [
    {
     "data": {
      "text/plain": [
       "array([0, 1, 2, 3, 4, 5, 6, 7])"
      ]
     },
     "execution_count": 304,
     "metadata": {},
     "output_type": "execute_result"
    }
   ],
   "source": [
    "a = np.arange(8)\n",
    "b = np.arange(1,9)\n",
    "a"
   ]
  },
  {
   "cell_type": "code",
   "execution_count": 302,
   "metadata": {},
   "outputs": [
    {
     "data": {
      "text/plain": [
       "array([False, False, False, False, False, False,  True,  True])"
      ]
     },
     "execution_count": 302,
     "metadata": {},
     "output_type": "execute_result"
    }
   ],
   "source": [
    "a > 5"
   ]
  },
  {
   "cell_type": "code",
   "execution_count": 303,
   "metadata": {},
   "outputs": [
    {
     "data": {
      "text/plain": [
       "array([False, False, False, False, False, False, False, False])"
      ]
     },
     "execution_count": 303,
     "metadata": {},
     "output_type": "execute_result"
    }
   ],
   "source": [
    "a > a"
   ]
  },
  {
   "cell_type": "code",
   "execution_count": 305,
   "metadata": {},
   "outputs": [
    {
     "data": {
      "text/plain": [
       "array([ True,  True,  True,  True,  True,  True,  True,  True])"
      ]
     },
     "execution_count": 305,
     "metadata": {},
     "output_type": "execute_result"
    }
   ],
   "source": [
    "a < b"
   ]
  },
  {
   "cell_type": "code",
   "execution_count": 307,
   "metadata": {},
   "outputs": [
    {
     "data": {
      "text/plain": [
       "array([False, False, False, False, False, False,  True,  True])"
      ]
     },
     "execution_count": 307,
     "metadata": {},
     "output_type": "execute_result"
    }
   ],
   "source": [
    "mask = a > 5\n",
    "mask"
   ]
  },
  {
   "cell_type": "code",
   "execution_count": 308,
   "metadata": {},
   "outputs": [
    {
     "data": {
      "text/plain": [
       "array([6, 7])"
      ]
     },
     "execution_count": 308,
     "metadata": {},
     "output_type": "execute_result"
    }
   ],
   "source": [
    "# True 인 값만 선택됩니다. boolean mask를 이용한 indexing\n",
    "a[mask]"
   ]
  },
  {
   "cell_type": "code",
   "execution_count": 311,
   "metadata": {},
   "outputs": [
    {
     "data": {
      "text/plain": [
       "array([ True,  True,  True,  True,  True,  True, False, False])"
      ]
     },
     "execution_count": 311,
     "metadata": {},
     "output_type": "execute_result"
    }
   ],
   "source": [
    "np.logical_not(mask)"
   ]
  },
  {
   "cell_type": "code",
   "execution_count": 312,
   "metadata": {},
   "outputs": [
    {
     "data": {
      "text/plain": [
       "array([False, False, False, False, False, False,  True,  True])"
      ]
     },
     "execution_count": 312,
     "metadata": {},
     "output_type": "execute_result"
    }
   ],
   "source": [
    "np.logical_and(mask, mask)"
   ]
  },
  {
   "cell_type": "code",
   "execution_count": 313,
   "metadata": {},
   "outputs": [
    {
     "data": {
      "text/plain": [
       "array([0, 1, 2, 3, 4, 5, 6, 7])"
      ]
     },
     "execution_count": 313,
     "metadata": {},
     "output_type": "execute_result"
    }
   ],
   "source": [
    "a"
   ]
  },
  {
   "cell_type": "code",
   "execution_count": 314,
   "metadata": {},
   "outputs": [
    {
     "data": {
      "text/plain": [
       "(array([ True, False,  True, False,  True, False,  True, False]),\n",
       " array([False, False, False,  True,  True,  True,  True,  True]))"
      ]
     },
     "execution_count": 314,
     "metadata": {},
     "output_type": "execute_result"
    }
   ],
   "source": [
    "# 짝수이면서 2보다 큰 값을 뽑으세요\n",
    "mask0 = a % 2 == 0\n",
    "mask1 = a > 2\n",
    "mask0 , mask1"
   ]
  },
  {
   "cell_type": "code",
   "execution_count": 318,
   "metadata": {},
   "outputs": [
    {
     "data": {
      "text/plain": [
       "array([4, 6])"
      ]
     },
     "execution_count": 318,
     "metadata": {},
     "output_type": "execute_result"
    }
   ],
   "source": [
    "mask = np.logical_and(mask0, mask1)\n",
    "a[mask]"
   ]
  },
  {
   "cell_type": "code",
   "execution_count": 319,
   "metadata": {},
   "outputs": [
    {
     "data": {
      "text/plain": [
       "array([0, 1, 2, 3, 4, 5, 6, 7])"
      ]
     },
     "execution_count": 319,
     "metadata": {},
     "output_type": "execute_result"
    }
   ],
   "source": [
    "#정렬\n",
    "np.sort(a)"
   ]
  },
  {
   "cell_type": "code",
   "execution_count": 322,
   "metadata": {},
   "outputs": [
    {
     "data": {
      "text/plain": [
       "array([7, 6, 5, 4, 3, 2, 1, 0])"
      ]
     },
     "execution_count": 322,
     "metadata": {},
     "output_type": "execute_result"
    }
   ],
   "source": [
    "np.sort(a)[::-1]"
   ]
  },
  {
   "cell_type": "markdown",
   "metadata": {},
   "source": [
    "주식 데이터 2개를 받아서 concatenate 로 붙이세요\n",
    "df = pandas.read_csv() 로 파일을 읽고\n",
    "arr0 = np.array(df"
   ]
  },
  {
   "cell_type": "code",
   "execution_count": 328,
   "metadata": {},
   "outputs": [],
   "source": [
    "import pandas as pd\n",
    "import numpy as np"
   ]
  },
  {
   "cell_type": "code",
   "execution_count": 332,
   "metadata": {},
   "outputs": [
    {
     "data": {
      "text/plain": [
       "((251, 7), (251, 7))"
      ]
     },
     "execution_count": 332,
     "metadata": {},
     "output_type": "execute_result"
    }
   ],
   "source": [
    "df0 = pd.read_csv('^DJI.csv')\n",
    "df1 = pd.read_csv('^DJI_2.csv')\n",
    "df0.shape, df1.shape"
   ]
  },
  {
   "cell_type": "code",
   "execution_count": 333,
   "metadata": {},
   "outputs": [],
   "source": [
    "arr0 = np.array(df0)\n",
    "arr1 = np.array(df1)"
   ]
  },
  {
   "cell_type": "code",
   "execution_count": 337,
   "metadata": {},
   "outputs": [
    {
     "data": {
      "text/plain": [
       "(502, 7)"
      ]
     },
     "execution_count": 337,
     "metadata": {},
     "output_type": "execute_result"
    }
   ],
   "source": [
    "arr = np.concatenate((arr0, arr1), axis=0)\n",
    "arr.shape"
   ]
  },
  {
   "cell_type": "code",
   "execution_count": 339,
   "metadata": {},
   "outputs": [
    {
     "data": {
      "text/plain": [
       "array(['2018-06-18', 24944.279297, 25003.099609, 24825.769531,\n",
       "       24987.470703, 24987.470703, 337070000], dtype=object)"
      ]
     },
     "execution_count": 339,
     "metadata": {},
     "output_type": "execute_result"
    }
   ],
   "source": [
    "arr[0]"
   ]
  },
  {
   "cell_type": "raw",
   "metadata": {},
   "source": [
    "- 각 컬럼의 평균값을 구하라\n",
    "- 가격 변동(Close - Open)이 가장 큰 때가 언제인지(날짜)를 알고 싶다."
   ]
  },
  {
   "cell_type": "code",
   "execution_count": 352,
   "metadata": {},
   "outputs": [
    {
     "data": {
      "text/plain": [
       "array([    24525,     24642,     24399,     24527,     24527, 332232888])"
      ]
     },
     "execution_count": 352,
     "metadata": {},
     "output_type": "execute_result"
    }
   ],
   "source": [
    "np.mean(arr[:,1:], axis=0).astype(np.int)"
   ]
  },
  {
   "cell_type": "code",
   "execution_count": 394,
   "metadata": {},
   "outputs": [],
   "source": [
    "Close_v = arr[:,4]\n",
    "Open_v = arr[:,1]\n",
    "Gap_v = np.abs(Close_v - Open_v) #절대값을 구하시오\n",
    "index = np.argmax(Gap_v) # 변동이 가장 큰 행번호\n",
    "np.max(Gap_v), arr[index, 0]\n",
    "\n",
    "High_v = arr[:,2]\n",
    "Low_v = arr[:,3]\n",
    "Vol_v = arr[:,-1]"
   ]
  },
  {
   "cell_type": "raw",
   "metadata": {},
   "source": [
    "\n",
    "주가와 거래량을 그래프로 표현해보세요"
   ]
  },
  {
   "cell_type": "code",
   "execution_count": 397,
   "metadata": {},
   "outputs": [
    {
     "data": {
      "text/plain": [
       "<matplotlib.legend.Legend at 0x1a2f8bb9f98>"
      ]
     },
     "execution_count": 397,
     "metadata": {},
     "output_type": "execute_result"
    },
    {
     "data": {
      "image/png": "[encoded data removed]",
      "text/plain": [
       "<Figure size 2880x720 with 1 Axes>"
      ]
     },
     "metadata": {
      "needs_background": "light"
     },
     "output_type": "display_data"
    }
   ],
   "source": [
    "import matplotlib.pyplot as plt \n",
    "\n",
    "plt.figure(figsize=(40,10)) # 인티(width, height)\n",
    "plt.title('Dow Jones Industrial Average')\n",
    "plt.plot(Open_v, label='Open')\n",
    "plt.plot(Close_v, label='Close')\n",
    "plt.plot(High_v, '^', label='high')\n",
    "plt.plot(Low_v, '.', label='Close')\n",
    "plt.legend()"
   ]
  },
  {
   "cell_type": "markdown",
   "metadata": {},
   "source": [
    "# 4장 기본 그래프 그리기"
   ]
  },
  {
   "cell_type": "code",
   "execution_count": 353,
   "metadata": {},
   "outputs": [],
   "source": [
    "import matplotlib.pyplot as plt"
   ]
  },
  {
   "cell_type": "code",
   "execution_count": 358,
   "metadata": {},
   "outputs": [
    {
     "data": {
      "image/png": "[encoded data removed]",
      "text/plain": [
       "<Figure size 432x288 with 1 Axes>"
      ]
     },
     "metadata": {
      "needs_background": "light"
     },
     "output_type": "display_data"
    }
   ],
   "source": [
    "plt.plot([10,20,30,40]) # Y\n",
    "plt.show()"
   ]
  },
  {
   "cell_type": "code",
   "execution_count": 380,
   "metadata": {},
   "outputs": [
    {
     "data": {
      "text/plain": [
       "<matplotlib.legend.Legend at 0x1a2f2bcd860>"
      ]
     },
     "execution_count": 380,
     "metadata": {},
     "output_type": "execute_result"
    },
    {
     "data": {
      "image/png": "[encoded data removed]",
      "text/plain": [
       "<Figure size 432x288 with 1 Axes>"
      ]
     },
     "metadata": {
      "needs_background": "light"
     },
     "output_type": "display_data"
    }
   ],
   "source": [
    "plt.plot([1,2,3,4],[12,43,25,15], '^', linestyle='--', label='a') # (X , Y)\n",
    "plt.plot([1,2,3,4],[20,44,55,30], linestyle='--', label='b') # (X , Y)\n",
    "plt.plot([1,2,3,4],[50,11,15,50], 'skyblue', label='d')\n",
    "plt.title( 'Graph Title')\n",
    "plt.legend(loc = 10)"
   ]
  },
  {
   "cell_type": "code",
   "execution_count": 401,
   "metadata": {},
   "outputs": [
    {
     "data": {
      "text/plain": [
       "[<matplotlib.lines.Line2D at 0x1a2f944c128>]"
      ]
     },
     "execution_count": 401,
     "metadata": {},
     "output_type": "execute_result"
    },
    {
     "data": {
      "image/png": "[encoded data removed]",
      "text/plain": [
       "<Figure size 2880x720 with 1 Axes>"
      ]
     },
     "metadata": {
      "needs_background": "light"
     },
     "output_type": "display_data"
    }
   ],
   "source": [
    "plt.figure(figsize=(40,10))\n",
    "plt.plot(arr[:,0],arr[:,1])"
   ]
  },
  {
   "cell_type": "code",
   "execution_count": null,
   "metadata": {},
   "outputs": [],
   "source": []
  }
 ],
 "metadata": {
  "kernelspec": {
   "display_name": "Python 3",
   "language": "python",
   "name": "python3"
  },
  "language_info": {
   "codemirror_mode": {
    "name": "ipython",
    "version": 3
   },
   "file_extension": ".py",
   "mimetype": "text/x-python",
   "name": "python",
   "nbconvert_exporter": "python",
   "pygments_lexer": "ipython3",
   "version": "3.7.3"
  }
 },
 "nbformat": 4,
 "nbformat_minor": 2
}
